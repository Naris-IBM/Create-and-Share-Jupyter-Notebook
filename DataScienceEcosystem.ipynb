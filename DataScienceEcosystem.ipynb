{
 "cells": [
  {
   "cell_type": "markdown",
   "id": "4bf36984-9425-4add-a650-6057bedc5337",
   "metadata": {},
   "source": [
    "# Data Science Tools and Ecosystem"
   ]
  },
  {
   "cell_type": "markdown",
   "id": "00e9e96d-5d3a-4cb0-b26b-5f0bb94888cc",
   "metadata": {},
   "source": [
    "In this notebook, Data Science tools and Ecosystem are summarized"
   ]
  },
  {
   "cell_type": "markdown",
   "id": "2a6ae86e-fbef-4739-b6e5-cb0b33fca891",
   "metadata": {},
   "source": [
    "Some of the popular languages that Data Scientists use are;  "
   ]
  },
  {
   "cell_type": "markdown",
   "id": "90a33818-1b96-4876-ac52-25aaf6a5a320",
   "metadata": {},
   "source": [
    "1. Python\n",
    "2. R\n",
    "3. Java"
   ]
  },
  {
   "cell_type": "markdown",
   "id": "bc7481b3-b0ce-4812-b5c7-c5ea38d219bc",
   "metadata": {},
   "source": [
    "Some of commonly used libraries used by Data Scientists use include:"
   ]
  },
  {
   "cell_type": "markdown",
   "id": "34d872e6-1707-4e16-b8b9-599c3a68b0d6",
   "metadata": {},
   "source": [
    "1. Panda\n",
    "2. Numpy\n",
    "3. Scikit-learn\n",
    "4. TensorFlow\n",
    "5. Apache Spark\n",
    "6. ggplot2"
   ]
  },
  {
   "cell_type": "markdown",
   "id": "79c4b737-9152-46f8-b515-bd387fa60d1b",
   "metadata": {},
   "source": [
    "| Data Science Tools |\n",
    "| ------------------ |\n",
    "| JupyterLab |\n",
    "| Rstudio |\n",
    "| Apache Spark |"
   ]
  },
  {
   "cell_type": "markdown",
   "id": "a4ae39f9-da14-4b51-bbf5-fb1182f8595a",
   "metadata": {},
   "source": [
    "### Below are a few examples of evaluating arithmetic expressions in Python"
   ]
  },
  {
   "cell_type": "markdown",
   "id": "e2298cec-284f-4c11-8267-1a8bdfffe6be",
   "metadata": {},
   "source": [
    "This a sample arithmetic expression to multiply then add integers"
   ]
  },
  {
   "cell_type": "code",
   "execution_count": 10,
   "id": "84218e90-5730-4887-9ae9-be94b2c7f347",
   "metadata": {},
   "outputs": [
    {
     "data": {
      "text/plain": [
       "17"
      ]
     },
     "execution_count": 10,
     "metadata": {},
     "output_type": "execute_result"
    }
   ],
   "source": [
    "(3*4)+5"
   ]
  },
  {
   "cell_type": "markdown",
   "id": "93840655-0cc1-42e1-97ea-b68609d38266",
   "metadata": {},
   "source": [
    "This will convert 200 minutes to hours by deviding by 60 "
   ]
  },
  {
   "cell_type": "code",
   "execution_count": 13,
   "id": "e392a964-0b53-4871-aa41-cae4bc9ed3cc",
   "metadata": {},
   "outputs": [
    {
     "data": {
      "text/plain": [
       "3.3333333333333335"
      ]
     },
     "execution_count": 13,
     "metadata": {},
     "output_type": "execute_result"
    }
   ],
   "source": [
    "200/60"
   ]
  },
  {
   "cell_type": "markdown",
   "id": "2a9619fe-2f2e-40f1-89ef-c0454a3e1fa1",
   "metadata": {},
   "source": [
    "Objectives:\n",
    "- List popular languages for Data Science\n",
    "- List commonly used libraries used by Data Scientists\n",
    "- List Data Science tools"
   ]
  },
  {
   "cell_type": "markdown",
   "id": "9e94fcbf-1cfa-4ee9-98c8-192c2415d83a",
   "metadata": {},
   "source": [
    "## Author\n",
    "Narisara Pipatanant"
   ]
  },
  {
   "cell_type": "code",
   "execution_count": null,
   "id": "07f3f128-af26-4f21-a473-74dc9b431802",
   "metadata": {},
   "outputs": [],
   "source": []
  }
 ],
 "metadata": {
  "kernelspec": {
   "display_name": "Python 3 (ipykernel)",
   "language": "python",
   "name": "python3"
  },
  "language_info": {
   "codemirror_mode": {
    "name": "ipython",
    "version": 3
   },
   "file_extension": ".py",
   "mimetype": "text/x-python",
   "name": "python",
   "nbconvert_exporter": "python",
   "pygments_lexer": "ipython3",
   "version": "3.11.7"
  }
 },
 "nbformat": 4,
 "nbformat_minor": 5
}
